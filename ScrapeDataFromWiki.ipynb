{
  "nbformat": 4,
  "nbformat_minor": 0,
  "metadata": {
    "colab": {
      "provenance": []
    },
    "kernelspec": {
      "name": "python3",
      "display_name": "Python 3"
    },
    "language_info": {
      "name": "python"
    }
  },
  "cells": [
    {
      "cell_type": "code",
      "execution_count": 13,
      "metadata": {
        "colab": {
          "base_uri": "https://localhost:8080/"
        },
        "id": "zfbhiAiTTYBZ",
        "outputId": "dd952fda-d27d-4a2e-fee0-809133ddd79e"
      },
      "outputs": [
        {
          "output_type": "stream",
          "name": "stdout",
          "text": [
            "Looking in indexes: https://pypi.org/simple, https://us-python.pkg.dev/colab-wheels/public/simple/\n",
            "Requirement already satisfied: pandas in /usr/local/lib/python3.7/dist-packages (1.3.5)\n",
            "Requirement already satisfied: numpy>=1.17.3 in /usr/local/lib/python3.7/dist-packages (from pandas) (1.21.6)\n",
            "Requirement already satisfied: pytz>=2017.3 in /usr/local/lib/python3.7/dist-packages (from pandas) (2022.4)\n",
            "Requirement already satisfied: python-dateutil>=2.7.3 in /usr/local/lib/python3.7/dist-packages (from pandas) (2.8.2)\n",
            "Requirement already satisfied: six>=1.5 in /usr/local/lib/python3.7/dist-packages (from python-dateutil>=2.7.3->pandas) (1.15.0)\n"
          ]
        }
      ],
      "source": [
        "pip install pandas"
      ]
    },
    {
      "cell_type": "code",
      "source": [
        "import pandas as pd\n",
        "variable = pd.read_html('https://en.wikipedia.org/wiki/Muhammad_Ishaq_Madni')"
      ],
      "metadata": {
        "id": "_gFBgsyZTshE"
      },
      "execution_count": 14,
      "outputs": []
    },
    {
      "cell_type": "code",
      "source": [
        "variable"
      ],
      "metadata": {
        "colab": {
          "base_uri": "https://localhost:8080/"
        },
        "id": "Z83BLfDzVSIr",
        "outputId": "5ccbc8f1-750d-483a-f9dc-ae3ad085c8cd"
      },
      "execution_count": 15,
      "outputs": [
        {
          "output_type": "execute_result",
          "data": {
            "text/plain": [
              "[   Muhammad Ishaq Madni                             Muhammad Ishaq Madni.1\n",
              " 0         Ishaq in 2013                                      Ishaq in 2013\n",
              " 1                 Title                                            Maulana\n",
              " 2              Personal                                           Personal\n",
              " 3                  Born        1935Chak Jhumra, Lyallpur, British India[1]\n",
              " 4                  Died  28 August 2013Jhaal Khanuana, Faisalabad, Paki...\n",
              " 5              Religion                                              Islam\n",
              " 6               Parents                            Mian Munshi[2] (father)\n",
              " 7                Region                                           Pakistan\n",
              " 8          Denomination                                              Sunni\n",
              " 9              Movement                                    Jamaat-e-Islami\n",
              " 10      Notable work(s)                                  Wahdat-e-Ummat[3]]"
            ]
          },
          "metadata": {},
          "execution_count": 15
        }
      ]
    }
  ]
}